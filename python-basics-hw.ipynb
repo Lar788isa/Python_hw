{
 "cells": [
  {
   "cell_type": "markdown",
   "metadata": {},
   "source": [
    "# Татаренко Лариса"
   ]
  },
  {
   "cell_type": "markdown",
   "metadata": {},
   "source": [
    "**Задание 1**. Даны 2 строки: *long_phrase* и *short_phrase*. \n",
    "Напишите код, который проверяет действительно ли длинная фраза *long_phrase* длиннее короткой *short_phrase*. И выводит *True* или *False* в зависимости от результата сравнения."
   ]
  },
  {
   "cell_type": "code",
   "execution_count": 10,
   "metadata": {},
   "outputs": [],
   "source": [
    "long_phrase = 'Насколько проще было бы писать программы, если бы не заказчики'\n",
    "short_phrase = '640Кб должно хватить для любых задач. Билл Гейтс (по легенде)'"
   ]
  },
  {
   "cell_type": "code",
   "execution_count": 11,
   "metadata": {},
   "outputs": [
    {
     "data": {
      "text/plain": [
       "True"
      ]
     },
     "execution_count": 11,
     "metadata": {},
     "output_type": "execute_result"
    }
   ],
   "source": [
    "len(long_phrase) > len(short_phrase)"
   ]
  },
  {
   "cell_type": "markdown",
   "metadata": {},
   "source": [
    "**Задание 2**. Дано значение объема файла в байтах. Напишите перевод этого значения в мегабайты в формате: \"*Объем файла равен 213.68Mb*\""
   ]
  },
  {
   "cell_type": "code",
   "execution_count": 12,
   "metadata": {},
   "outputs": [
    {
     "name": "stdout",
     "output_type": "stream",
     "text": [
      "Объем файла в байтах равен:\n",
      "224059719.68\n",
      "Объем файла равен 213.68 Mb\n"
     ]
    }
   ],
   "source": [
    "print('Объем файла в байтах равен:')\n",
    "x = float(input())\n",
    "x = round((x / 1048576), 2)\n",
    "print('Объем файла равен', x, 'Mb')\n"
   ]
  },
  {
   "cell_type": "markdown",
   "metadata": {},
   "source": [
    "**Задание 3**. Разработать приложение для определения знака зодиака по дате рождения. Пример:\n",
    "\n",
    "Введите месяц: март\n",
    "\n",
    "Введите число: 6\n",
    "\n",
    "Вывод:\n",
    "Рыбы"
   ]
  },
  {
   "cell_type": "code",
   "execution_count": 13,
   "metadata": {},
   "outputs": [
    {
     "name": "stdout",
     "output_type": "stream",
     "text": [
      "Введите месяц:март\n",
      "Введите число:\n",
      "6\n",
      "Рыбы\n"
     ]
    }
   ],
   "source": [
    "month = input('Введите месяц:')\n",
    "print('Введите число:')\n",
    "date = int(input())\n",
    "if month == 'март':\n",
    "    if 1 <= date < 21:\n",
    "        print('Рыбы')\n",
    "    else :\n",
    "        print('Овен')\n",
    "elif month == 'апрель':\n",
    "    if 1<= date < 21:\n",
    "        print('Овен')\n",
    "    else:\n",
    "        print('Телец')\n",
    "elif month == 'май':\n",
    "    if 1 <= date < 21:\n",
    "        print('Телец')\n",
    "    else:\n",
    "        print('Близнецы')\n",
    "elif month == 'июнь':\n",
    "    if 1<= date < 22:\n",
    "        print('Близнецы')\n",
    "    else:\n",
    "        print('Рак')\n",
    "elif month == 'июль':\n",
    "    if 1<= date < 23:\n",
    "        print('Рак')\n",
    "    else:\n",
    "        print('Лев')\n",
    "elif month == 'август':\n",
    "    if 1<= date < 24:\n",
    "        print('Лев')\n",
    "    else:\n",
    "        print('Дева')\n",
    "elif month == 'сентябрь':\n",
    "    if 1<= date < 24:\n",
    "        print('Дева')\n",
    "    else:\n",
    "        print('Весы')\n",
    "elif month == 'октябрь':\n",
    "    if 1<= date < 24:\n",
    "        print('Весы')\n",
    "    else:\n",
    "        print('Скорпион')\n",
    "elif month == 'ноябрьь':\n",
    "    if 1<= date < 23:\n",
    "        print('Скорпион')\n",
    "    else:\n",
    "        print('Стрелец')\n",
    "elif month == 'декабрь':\n",
    "    if 1<= date < 22:\n",
    "        print('Стрелец')\n",
    "    else:\n",
    "        print('Козерок')\n",
    "elif month == 'январь':\n",
    "    if 1<= date < 20:\n",
    "        print('Козерок')\n",
    "    else:\n",
    "        print('Водолей')\n",
    "elif month == 'февраль':\n",
    "    if 1<= date < 19:\n",
    "        print('Водолей')\n",
    "    else:\n",
    "        print('Рыбы')"
   ]
  },
  {
   "cell_type": "markdown",
   "metadata": {},
   "source": [
    "**Задание 4**. Нужно разработать приложение для финансового планирования.\n",
    "Приложение учитывает сколько уходит на ипотеку, \"на жизнь\" и сколько нужно отложить на пенсию.\n",
    "Пользователь вводит:\n",
    "- заработанную плату в месяц.\n",
    "- сколько процентов от ЗП уходит на ипотеку.\n",
    "- сколько процентов от ЗП уходит \"на жизнь\".\n",
    "- сколько раз приходит премия в год.\n",
    "\n",
    "Остальная часть заработанной платы откладывается на пенсию.\n",
    "\n",
    "Также пользователю приходит премия в размере зарплаты, от которой половина уходит на отпуск, а вторая половина откладывается.\n",
    "\n",
    "Программа должна учитывать сколько премий было в год.\n",
    "\n",
    "Нужно вывести сколько денег тратит пользователь на ипотеку и сколько он накопит за год.\n",
    "\n",
    "Пример:\n",
    "\n",
    "Введите заработанную плату в месяц: 100000\n",
    "\n",
    "Введите сколько процентов уходит на ипотеку: 30\n",
    "\n",
    "Введите сколько процентов уходит на жизнь: 50\n",
    "\n",
    "Введите количество премий за год: 2\n",
    "\n",
    "Вывод:\n",
    "На ипотеку было потрачено: 360000 рублей\n",
    "Было накоплено: 340000 рублей"
   ]
  },
  {
   "cell_type": "code",
   "execution_count": 6,
   "metadata": {},
   "outputs": [
    {
     "name": "stdout",
     "output_type": "stream",
     "text": [
      "ВВедите заработную плату в месяц:100000\n",
      "Введите сколько процентов уходит на ипотеку:30\n",
      "Введите сколько процентов уходит на жизнь:50\n",
      "Введите количество премий:2\n",
      "На ипотеку было потрачено: 360000 рублей\n",
      "Было накоплено: 340000 рублей\n"
     ]
    }
   ],
   "source": [
    "sal = int(input('ВВедите заработную плату в месяц:'))\n",
    "mort = int(input('Введите сколько процентов уходит на ипотеку:'))\n",
    "life = int(input('Введите сколько процентов уходит на жизнь:'))\n",
    "prem = int(input('Введите количество премий:'))\n",
    "if prem > 0:\n",
    "    prem = sal * prem / 2\n",
    "mort = sal * 12 / 100 * mort     \n",
    "print(f'На ипотеку было потрачено: {round(mort)} рублей') \n",
    "life = sal * 12 -sal * 12 / 100 * life\n",
    "storage = sal * 12 - (mort + life) + prem\n",
    "print(f'Было накоплено: {round(storage)} рублей')"
   ]
  },
  {
   "cell_type": "code",
   "execution_count": 9,
   "metadata": {},
   "outputs": [
    {
     "name": "stdout",
     "output_type": "stream",
     "text": [
      "ВВедите заработную плату в месяц:100000\n",
      "Введите сколько процентов уходит на ипотеку:30\n",
      "Введите сколько процентов уходит на жизнь:50\n",
      "Введите количество премий:2\n",
      "На ипотеку было потрачено: 360000 рублей\n",
      "Было накоплено: 390000 рублей\n"
     ]
    }
   ],
   "source": [
    "# в этом случае, только от одной премии пользователей тратит деньги на отпуск, все остальные премии идут в накопление.\n",
    "sal = int(input('ВВедите заработную плату в месяц:'))\n",
    "mort = int(input('Введите сколько процентов уходит на ипотеку:'))\n",
    "life = int(input('Введите сколько процентов уходит на жизнь:'))\n",
    "prem = int(input('Введите количество премий:'))\n",
    "if prem > 1:\n",
    "    prem = (prem * sal - sal/2)\n",
    "else:\n",
    "    prem = sal / 2\n",
    "mort = sal * 12 / 100 * mort     \n",
    "print(f'На ипотеку было потрачено: {round(mort)} рублей') \n",
    "life = sal * 12 -sal * 12 / 100 * life\n",
    "storage = sal * 12 - (mort + life) + prem\n",
    "print(f'Было накоплено: {round(storage)} рублей')"
   ]
  },
  {
   "cell_type": "code",
   "execution_count": null,
   "metadata": {},
   "outputs": [],
   "source": []
  }
 ],
 "metadata": {
  "kernelspec": {
   "display_name": "Python 3",
   "language": "python",
   "name": "python3"
  },
  "language_info": {
   "codemirror_mode": {
    "name": "ipython",
    "version": 3
   },
   "file_extension": ".py",
   "mimetype": "text/x-python",
   "name": "python",
   "nbconvert_exporter": "python",
   "pygments_lexer": "ipython3",
   "version": "3.7.4"
  }
 },
 "nbformat": 4,
 "nbformat_minor": 2
}
